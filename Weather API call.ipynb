{
 "cells": [
  {
   "cell_type": "code",
   "execution_count": null,
   "metadata": {
    "collapsed": true
   },
   "outputs": [],
   "source": [
    "import pandas as pd\n",
    "import matplotlib.pyplot as plt\n",
    "import numpy as np\n",
    "import statsmodels.api as sm\n",
    "import pylab\n",
    "import requests \n",
    "import pprint\n",
    "import time\n",
    "import csv\n",
    "MINUTES_BETWEEN_READS = 0.1 #limit = 10 API calls per minute, 500 per day\n",
    "past_rain = [];\n",
    "rain_day = []; \n",
    "past_temp = [];\n",
    "temp_day = [];\n",
    "for i in range(2003,2017):\n",
    "    #wunderground only had historical weather reports of Portugal back to 2003 and the Wine enthusiast \n",
    "    for j in (4,10):\n",
    "        #gathering temperatures from the months of April to September \n",
    "        for k in range(1,10):\n",
    "            #single digit days of the month to get the right format for the API call, also allows us to use two different API keys\n",
    "            past_response = requests.get('http://api.wunderground.com/api/b7b6901fb869c948/history_' + str(i) + '0' + str(j) + '0' + str(k) + '/geolookup/conditions/q/Portugal/Lisbon.json').json()\n",
    "            if past_response['history']['dailysummary']:\n",
    "                temp_day.append(float(past_response['history']['dailysummary'][0]['meantempi']))\n",
    "                #if specific day has no record, skip that date\n",
    "            time.sleep(60*MINUTES_BETWEEN_READS)\n",
    "        for k in range(10,31):\n",
    "            past_response = requests.get('http://api.wunderground.com/api/252679f1146ecf24/history_' + str(i) + '0' + str(j) + str(k) + '/geolookup/conditions/q/Portugal/Lisbon.json').json()\n",
    "            if past_response['history']['dailysummary']:\n",
    "                temp_day.append(float(past_response['history']['dailysummary'][0]['meantempi']))\n",
    "            time.sleep(60*MINUTES_BETWEEN_READS)\n",
    "    past_temp.append(sum(temp_day)/float(len(temp_day))) #averages the temperature from everyday from April to September\n",
    "    for j in range(8,10):\n",
    "        #gathering total rainfall from August and September \n",
    "        for k in range(1,10):\n",
    "            past_response = requests.get('http://api.wunderground.com/api/b7b6901fb869c948/history_' + str(i) + '0' + str(j) + '0' + str(k) + '/geolookup/conditions/q/Portugal/Lisbon.json').json()\n",
    "            if past_response['history']['dailysummary']:\n",
    "                rain_day.append(float(past_response['history']['dailysummary'][0]['rain']))\n",
    "            time.sleep(60*MINUTES_BETWEEN_READS)\n",
    "        for k in range(10,31):\n",
    "            past_response = requests.get('http://api.wunderground.com/api/252679f1146ecf24/history_' + str(i) + '0' + str(j) + str(k) + '/geolookup/conditions/q/Portugal/Lisbon.json').json()\n",
    "            if past_response['history']['dailysummary']:\n",
    "                rain_day.append(float(past_response['history']['dailysummary'][0]['rain']))\n",
    "            time.sleep(60*MINUTES_BETWEEN_READS)\n",
    "    past_rain.append(sum(rain_day)) #adds the total rainfall for each day \n",
    "\n",
    "print(past_rain) #total rainfall for years 2003-2016 in months August and Spetember, array with element for each year\n",
    "print(past_temps) #average temper\n"
   ]
  },
  {
   "cell_type": "code",
   "execution_count": 7,
   "metadata": {
    "collapsed": true
   },
   "outputs": [],
   "source": [
    "import pandas as pd\n",
    "from sklearn.cross_validation import train_test_split\n",
    "\n",
    "\n",
    "df = pd.read_csv('weatherANDwine.csv')\n",
    "# this csv should be made when calling the wunderground API, but due to the call limit, the data needs to be \n",
    "# entered in manually\n",
    "Temp_and_Rain = df[list(df.columns)[3:]]\n",
    "# variables\n",
    "Ports_Quality = df['Ports']\n",
    "# 1st dependent variable\n",
    "TableWine_Quality = df['Table Wines (Red)']\n",
    "# 2nd dependent variable\n",
    "Temp_and_Rain_train, Temp_and_Rain_test, Ports_Quality_train, Ports_Quality_test = train_test_split(Temp_and_Rain, Ports_Quality)\n",
    "# training data (80%/20%)\n",
    "Temp_and_Rain_train, Temp_and_Rain_test, TableWine_Quality_train, TableWine_Quality_test = train_test_split(Temp_and_Rain, TableWine_Quality)\n",
    "# training data (80%/20%)\n",
    "\n",
    "\n",
    "\n",
    "\n"
   ]
  },
  {
   "cell_type": "code",
   "execution_count": 8,
   "metadata": {},
   "outputs": [
    {
     "name": "stdout",
     "output_type": "stream",
     "text": [
      "                            OLS Regression Results                            \n",
      "==============================================================================\n",
      "Dep. Variable:                  Ports   R-squared:                       0.998\n",
      "Model:                            OLS   Adj. R-squared:                  0.997\n",
      "Method:                 Least Squares   F-statistic:                     2487.\n",
      "Date:                Wed, 02 May 2018   Prob (F-statistic):           1.94e-16\n",
      "Time:                        16:16:40   Log-Likelihood:                -41.062\n",
      "No. Observations:                  14   AIC:                             86.12\n",
      "Df Residuals:                      12   BIC:                             87.40\n",
      "Df Model:                           2                                         \n",
      "Covariance Type:            nonrobust                                         \n",
      "==============================================================================\n",
      "                 coef    std err          t      P>|t|      [0.025      0.975]\n",
      "------------------------------------------------------------------------------\n",
      "temp           1.3465      0.039     34.516      0.000       1.262       1.432\n",
      "rain          -0.3723      0.456     -0.816      0.430      -1.366       0.622\n",
      "==============================================================================\n",
      "Omnibus:                        5.930   Durbin-Watson:                   1.845\n",
      "Prob(Omnibus):                  0.052   Jarque-Bera (JB):                2.831\n",
      "Skew:                          -0.988   Prob(JB):                        0.243\n",
      "Kurtosis:                       3.972   Cond. No.                         24.5\n",
      "==============================================================================\n",
      "\n",
      "Warnings:\n",
      "[1] Standard Errors assume that the covariance matrix of the errors is correctly specified.\n"
     ]
    },
    {
     "name": "stderr",
     "output_type": "stream",
     "text": [
      "/Users/isabelaosorio/anaconda3/lib/python3.6/site-packages/scipy/stats/stats.py:1334: UserWarning: kurtosistest only valid for n>=20 ... continuing anyway, n=14\n",
      "  \"anyway, n=%i\" % int(n))\n"
     ]
    }
   ],
   "source": [
    "import statsmodels.api as sm\n",
    "ols_model = sm.OLS(Ports_Quality, Temp_and_Rain, missing='drop')\n",
    "ols_results = ols_model.fit()\n",
    "print(ols_results.summary())\n",
    "# linear regressionn for 1st dependent variable (Port Quality)"
   ]
  },
  {
   "cell_type": "code",
   "execution_count": 9,
   "metadata": {},
   "outputs": [
    {
     "name": "stdout",
     "output_type": "stream",
     "text": [
      "                            OLS Regression Results                            \n",
      "==============================================================================\n",
      "Dep. Variable:      Table Wines (Red)   R-squared:                       0.998\n",
      "Model:                            OLS   Adj. R-squared:                  0.997\n",
      "Method:                 Least Squares   F-statistic:                     2714.\n",
      "Date:                Wed, 02 May 2018   Prob (F-statistic):           1.15e-16\n",
      "Time:                        16:16:42   Log-Likelihood:                -40.392\n",
      "No. Observations:                  14   AIC:                             84.78\n",
      "Df Residuals:                      12   BIC:                             86.06\n",
      "Df Model:                           2                                         \n",
      "Covariance Type:            nonrobust                                         \n",
      "==============================================================================\n",
      "                 coef    std err          t      P>|t|      [0.025      0.975]\n",
      "------------------------------------------------------------------------------\n",
      "temp           1.3274      0.037     35.691      0.000       1.246       1.408\n",
      "rain          -0.1876      0.435     -0.431      0.674      -1.135       0.760\n",
      "==============================================================================\n",
      "Omnibus:                       11.791   Durbin-Watson:                   1.709\n",
      "Prob(Omnibus):                  0.003   Jarque-Bera (JB):                7.498\n",
      "Skew:                          -1.521   Prob(JB):                       0.0235\n",
      "Kurtosis:                       4.898   Cond. No.                         24.5\n",
      "==============================================================================\n",
      "\n",
      "Warnings:\n",
      "[1] Standard Errors assume that the covariance matrix of the errors is correctly specified.\n"
     ]
    },
    {
     "name": "stderr",
     "output_type": "stream",
     "text": [
      "/Users/isabelaosorio/anaconda3/lib/python3.6/site-packages/scipy/stats/stats.py:1334: UserWarning: kurtosistest only valid for n>=20 ... continuing anyway, n=14\n",
      "  \"anyway, n=%i\" % int(n))\n"
     ]
    }
   ],
   "source": [
    "ols_model = sm.OLS(TableWine_Quality, Temp_and_Rain, missing='drop')\n",
    "ols_results = ols_model.fit()\n",
    "print(ols_results.summary())\n",
    "# linear regressionn for 2nd dependent variable (Table Wine (Reds) Quality)"
   ]
  }
 ],
 "metadata": {
  "kernelspec": {
   "display_name": "Python 3",
   "language": "python",
   "name": "python3"
  },
  "language_info": {
   "codemirror_mode": {
    "name": "ipython",
    "version": 3
   },
   "file_extension": ".py",
   "mimetype": "text/x-python",
   "name": "python",
   "nbconvert_exporter": "python",
   "pygments_lexer": "ipython3",
   "version": "3.6.3"
  }
 },
 "nbformat": 4,
 "nbformat_minor": 2
}
