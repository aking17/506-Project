{
 "cells": [
  {
   "cell_type": "code",
   "execution_count": 1,
   "metadata": {
    "collapsed": false
   },
   "outputs": [],
   "source": [
    "import pandas as pd\n",
    "import csv\n",
    "import matplotlib.pyplot as plt\n",
    "import numpy as np\n",
    "import statsmodels.api as sm\n",
    "import pylab\n"
   ]
  },
  {
   "cell_type": "code",
   "execution_count": 3,
   "metadata": {
    "collapsed": false
   },
   "outputs": [],
   "source": [
    "df = pd.read_csv('winequality-red.csv')\n",
    "df = df.loc[df['quality'] >=6]"
   ]
  },
  {
   "cell_type": "code",
   "execution_count": 4,
   "metadata": {
    "collapsed": false,
    "scrolled": false
   },
   "outputs": [
    {
     "name": "stdout",
     "output_type": "stream",
     "text": [
      "       fixed acidity  volatile acidity  citric acid  residual sugar  \\\n",
      "count     855.000000        855.000000   855.000000      855.000000   \n",
      "mean        8.474035          0.474146     0.299883        2.535965   \n",
      "std         1.862795          0.161999     0.199889        1.424835   \n",
      "min         4.700000          0.120000     0.000000        0.900000   \n",
      "25%         7.100000          0.350000     0.115000        1.900000   \n",
      "50%         8.000000          0.460000     0.310000        2.200000   \n",
      "75%         9.650000          0.580000     0.460000        2.600000   \n",
      "max        15.600000          1.040000     0.780000       15.400000   \n",
      "\n",
      "        chlorides  free sulfur dioxide  total sulfur dioxide     density  \\\n",
      "count  855.000000           855.000000            855.000000  855.000000   \n",
      "mean     0.082661            15.272515             39.352047    0.996467   \n",
      "std      0.037258            10.038538             27.253280    0.002067   \n",
      "min      0.012000             1.000000              6.000000    0.990070   \n",
      "25%      0.067000             7.000000             20.000000    0.995185   \n",
      "50%      0.077000            13.000000             33.000000    0.996400   \n",
      "75%      0.087500            20.500000             50.000000    0.997685   \n",
      "max      0.415000            72.000000            289.000000    1.003690   \n",
      "\n",
      "               pH   sulphates     alcohol     quality  \n",
      "count  855.000000  855.000000  855.000000  855.000000  \n",
      "mean     3.310643    0.692620   10.855029    6.274854  \n",
      "std      0.154554    0.155558    1.106109    0.491627  \n",
      "min      2.860000    0.390000    8.400000    6.000000  \n",
      "25%      3.210000    0.590000   10.000000    6.000000  \n",
      "50%      3.310000    0.660000   10.800000    6.000000  \n",
      "75%      3.400000    0.770000   11.700000    7.000000  \n",
      "max      4.010000    1.950000   14.000000    8.000000  \n"
     ]
    }
   ],
   "source": [
    "print(df.describe())"
   ]
  },
  {
   "cell_type": "code",
   "execution_count": 5,
   "metadata": {
    "collapsed": false,
    "scrolled": true
   },
   "outputs": [
    {
     "name": "stdout",
     "output_type": "stream",
     "text": [
      "                      fixed acidity  volatile acidity  citric acid  \\\n",
      "fixed acidity              1.000000         -0.282159     0.696876   \n",
      "volatile acidity          -0.282159          1.000000    -0.578030   \n",
      "citric acid                0.696876         -0.578030     1.000000   \n",
      "residual sugar             0.114460          0.006655     0.161854   \n",
      "chlorides                  0.125953          0.074512     0.154334   \n",
      "free sulfur dioxide       -0.218638          0.015968    -0.149503   \n",
      "total sulfur dioxide      -0.176359          0.068155    -0.048526   \n",
      "density                    0.699443          0.026408     0.371560   \n",
      "pH                        -0.728341          0.284919    -0.592169   \n",
      "sulphates                  0.215061         -0.232230     0.264703   \n",
      "alcohol                   -0.154082         -0.146935     0.095745   \n",
      "quality                    0.105616         -0.232365     0.217669   \n",
      "\n",
      "                      residual sugar  chlorides  free sulfur dioxide  \\\n",
      "fixed acidity               0.114460   0.125953            -0.218638   \n",
      "volatile acidity            0.006655   0.074512             0.015968   \n",
      "citric acid                 0.161854   0.154334            -0.149503   \n",
      "residual sugar              1.000000   0.104476             0.144243   \n",
      "chlorides                   0.104476   1.000000            -0.080264   \n",
      "free sulfur dioxide         0.144243  -0.080264             1.000000   \n",
      "total sulfur dioxide        0.221377  -0.043987             0.661569   \n",
      "density                     0.333467   0.261420            -0.123321   \n",
      "pH                         -0.102752  -0.217855             0.176317   \n",
      "sulphates                  -0.022004   0.221034             0.028498   \n",
      "alcohol                     0.021775  -0.231083             0.018646   \n",
      "quality                     0.063937  -0.109973            -0.074986   \n",
      "\n",
      "                      total sulfur dioxide   density        pH  sulphates  \\\n",
      "fixed acidity                    -0.176359  0.699443 -0.728341   0.215061   \n",
      "volatile acidity                  0.068155  0.026408  0.284919  -0.232230   \n",
      "citric acid                      -0.048526  0.371560 -0.592169   0.264703   \n",
      "residual sugar                    0.221377  0.333467 -0.102752  -0.022004   \n",
      "chlorides                        -0.043987  0.261420 -0.217855   0.221034   \n",
      "free sulfur dioxide               0.661569 -0.123321  0.176317   0.028498   \n",
      "total sulfur dioxide              1.000000 -0.056626  0.029545   0.029436   \n",
      "density                          -0.056626  1.000000 -0.384497   0.184882   \n",
      "pH                                0.029545 -0.384497  1.000000  -0.164492   \n",
      "sulphates                         0.029436  0.184882 -0.164492   1.000000   \n",
      "alcohol                          -0.051324 -0.559683  0.202951   0.023034   \n",
      "quality                          -0.093926 -0.135108 -0.085086   0.189621   \n",
      "\n",
      "                       alcohol   quality  \n",
      "fixed acidity        -0.154082  0.105616  \n",
      "volatile acidity     -0.146935 -0.232365  \n",
      "citric acid           0.095745  0.217669  \n",
      "residual sugar        0.021775  0.063937  \n",
      "chlorides            -0.231083 -0.109973  \n",
      "free sulfur dioxide   0.018646 -0.074986  \n",
      "total sulfur dioxide -0.051324 -0.093926  \n",
      "density              -0.559683 -0.135108  \n",
      "pH                    0.202951 -0.085086  \n",
      "sulphates             0.023034  0.189621  \n",
      "alcohol               1.000000  0.357849  \n",
      "quality               0.357849  1.000000  \n"
     ]
    }
   ],
   "source": [
    "print(df.corr())"
   ]
  },
  {
   "cell_type": "code",
   "execution_count": 6,
   "metadata": {
    "collapsed": false
   },
   "outputs": [
    {
     "name": "stderr",
     "output_type": "stream",
     "text": [
      "/Users/alanaking/anaconda/lib/python2.7/site-packages/sklearn/cross_validation.py:44: DeprecationWarning: This module was deprecated in version 0.18 in favor of the model_selection module into which all the refactored classes and functions are moved. Also note that the interface of the new CV iterators are different from that of this module. This module will be removed in 0.20.\n",
      "  \"This module will be removed in 0.20.\", DeprecationWarning)\n"
     ]
    }
   ],
   "source": [
    "#Split the data into training and testing sets\n",
    "from sklearn.cross_validation import train_test_split\n",
    "Features = df[list(df.columns)[:-1]]\n",
    "Quality = df['quality']\n",
    "Features_train, Features_test, Quality_train, Quality_test = train_test_split(Features, Quality)"
   ]
  },
  {
   "cell_type": "code",
   "execution_count": 7,
   "metadata": {
    "collapsed": false,
    "scrolled": false
   },
   "outputs": [
    {
     "name": "stdout",
     "output_type": "stream",
     "text": [
      "                            OLS Regression Results                            \n",
      "==============================================================================\n",
      "Dep. Variable:                quality   R-squared:                       0.995\n",
      "Model:                            OLS   Adj. R-squared:                  0.995\n",
      "Method:                 Least Squares   F-statistic:                     3896.\n",
      "Date:                Tue, 24 Apr 2018   Prob (F-statistic):          1.63e-229\n",
      "Time:                        11:06:08   Log-Likelihood:                -124.45\n",
      "No. Observations:                 214   AIC:                             270.9\n",
      "Df Residuals:                     203   BIC:                             307.9\n",
      "Df Model:                          11                                         \n",
      "Covariance Type:            nonrobust                                         \n",
      "========================================================================================\n",
      "                           coef    std err          t      P>|t|      [95.0% Conf. Int.]\n",
      "----------------------------------------------------------------------------------------\n",
      "fixed acidity           -0.0285      0.030     -0.954      0.341        -0.087     0.030\n",
      "volatile acidity        -0.2214      0.270     -0.821      0.413        -0.753     0.310\n",
      "citric acid              0.0358      0.293      0.122      0.903        -0.543     0.614\n",
      "residual sugar           0.0481      0.034      1.431      0.154        -0.018     0.114\n",
      "chlorides               -1.1100      0.916     -1.211      0.227        -2.917     0.697\n",
      "free sulfur dioxide      0.0025      0.005      0.557      0.578        -0.006     0.011\n",
      "total sulfur dioxide    -0.0040      0.002     -2.287      0.023        -0.007    -0.001\n",
      "density                  5.6066      1.334      4.203      0.000         2.976     8.237\n",
      "pH                      -0.2437      0.342     -0.713      0.476        -0.917     0.430\n",
      "sulphates                0.8564      0.240      3.572      0.000         0.384     1.329\n",
      "alcohol                  0.1238      0.032      3.830      0.000         0.060     0.188\n",
      "==============================================================================\n",
      "Omnibus:                       20.806   Durbin-Watson:                   2.074\n",
      "Prob(Omnibus):                  0.000   Jarque-Bera (JB):               24.565\n",
      "Skew:                           0.829   Prob(JB):                     4.63e-06\n",
      "Kurtosis:                       3.084   Cond. No.                     2.32e+03\n",
      "==============================================================================\n",
      "\n",
      "Warnings:\n",
      "[1] Standard Errors assume that the covariance matrix of the errors is correctly specified.\n",
      "[2] The condition number is large, 2.32e+03. This might indicate that there are\n",
      "strong multicollinearity or other numerical problems.\n"
     ]
    }
   ],
   "source": [
    "import warnings\n",
    "with warnings.catch_warnings():\n",
    "    warnings.simplefilter('ignore')\n",
    "    ols_model = sm.OLS(Quality_test, Features_test, missing='drop')\n",
    "    ols_results = ols_model.fit()\n",
    "    print(ols_results.summary())"
   ]
  },
  {
   "cell_type": "code",
   "execution_count": 8,
   "metadata": {
    "collapsed": true
   },
   "outputs": [],
   "source": [
    "Quality_predictions = ols_results.predict(Features_test)"
   ]
  },
  {
   "cell_type": "code",
   "execution_count": 9,
   "metadata": {
    "collapsed": false,
    "scrolled": true
   },
   "outputs": [
    {
     "data": {
      "image/png": "[encoded data removed]",
      "text/plain": [
       "<matplotlib.figure.Figure at 0x110011990>"
      ]
     },
     "metadata": {},
     "output_type": "display_data"
    }
   ],
   "source": [
    "plt.scatter(Quality_test, Quality_predictions)\n",
    "plt.xlabel('True Quality')\n",
    "plt.ylabel('Predicted Quality')\n",
    "plt.title('Predicted Quality Against True Quality ')\n",
    "plt.show()"
   ]
  },
  {
   "cell_type": "code",
   "execution_count": 10,
   "metadata": {
    "collapsed": false
   },
   "outputs": [
    {
     "ename": "IOError",
     "evalue": "File winequality-white.csv does not exist",
     "output_type": "error",
     "traceback": [
      "\u001b[0;31m---------------------------------------------------------------------------\u001b[0m",
      "\u001b[0;31mIOError\u001b[0m                                   Traceback (most recent call last)",
      "\u001b[0;32m<ipython-input-10-34778a539363>\u001b[0m in \u001b[0;36m<module>\u001b[0;34m()\u001b[0m\n\u001b[0;32m----> 1\u001b[0;31m \u001b[0mdf2\u001b[0m \u001b[0;34m=\u001b[0m \u001b[0mpd\u001b[0m\u001b[0;34m.\u001b[0m\u001b[0mread_csv\u001b[0m\u001b[0;34m(\u001b[0m\u001b[0;34m'winequality-white.csv'\u001b[0m\u001b[0;34m,\u001b[0m \u001b[0msep\u001b[0m \u001b[0;34m=\u001b[0m \u001b[0;34m';'\u001b[0m\u001b[0;34m)\u001b[0m\u001b[0;34m\u001b[0m\u001b[0m\n\u001b[0m",
      "\u001b[0;32m/Users/alanaking/anaconda/lib/python2.7/site-packages/pandas/io/parsers.pyc\u001b[0m in \u001b[0;36mparser_f\u001b[0;34m(filepath_or_buffer, sep, delimiter, header, names, index_col, usecols, squeeze, prefix, mangle_dupe_cols, dtype, engine, converters, true_values, false_values, skipinitialspace, skiprows, nrows, na_values, keep_default_na, na_filter, verbose, skip_blank_lines, parse_dates, infer_datetime_format, keep_date_col, date_parser, dayfirst, iterator, chunksize, compression, thousands, decimal, lineterminator, quotechar, quoting, escapechar, comment, encoding, dialect, tupleize_cols, error_bad_lines, warn_bad_lines, skipfooter, skip_footer, doublequote, delim_whitespace, as_recarray, compact_ints, use_unsigned, low_memory, buffer_lines, memory_map, float_precision)\u001b[0m\n\u001b[1;32m    644\u001b[0m                     skip_blank_lines=skip_blank_lines)\n\u001b[1;32m    645\u001b[0m \u001b[0;34m\u001b[0m\u001b[0m\n\u001b[0;32m--> 646\u001b[0;31m         \u001b[0;32mreturn\u001b[0m \u001b[0m_read\u001b[0m\u001b[0;34m(\u001b[0m\u001b[0mfilepath_or_buffer\u001b[0m\u001b[0;34m,\u001b[0m \u001b[0mkwds\u001b[0m\u001b[0;34m)\u001b[0m\u001b[0;34m\u001b[0m\u001b[0m\n\u001b[0m\u001b[1;32m    647\u001b[0m \u001b[0;34m\u001b[0m\u001b[0m\n\u001b[1;32m    648\u001b[0m     \u001b[0mparser_f\u001b[0m\u001b[0;34m.\u001b[0m\u001b[0m__name__\u001b[0m \u001b[0;34m=\u001b[0m \u001b[0mname\u001b[0m\u001b[0;34m\u001b[0m\u001b[0m\n",
      "\u001b[0;32m/Users/alanaking/anaconda/lib/python2.7/site-packages/pandas/io/parsers.pyc\u001b[0m in \u001b[0;36m_read\u001b[0;34m(filepath_or_buffer, kwds)\u001b[0m\n\u001b[1;32m    387\u001b[0m \u001b[0;34m\u001b[0m\u001b[0m\n\u001b[1;32m    388\u001b[0m     \u001b[0;31m# Create the parser.\u001b[0m\u001b[0;34m\u001b[0m\u001b[0;34m\u001b[0m\u001b[0m\n\u001b[0;32m--> 389\u001b[0;31m     \u001b[0mparser\u001b[0m \u001b[0;34m=\u001b[0m \u001b[0mTextFileReader\u001b[0m\u001b[0;34m(\u001b[0m\u001b[0mfilepath_or_buffer\u001b[0m\u001b[0;34m,\u001b[0m \u001b[0;34m**\u001b[0m\u001b[0mkwds\u001b[0m\u001b[0;34m)\u001b[0m\u001b[0;34m\u001b[0m\u001b[0m\n\u001b[0m\u001b[1;32m    390\u001b[0m \u001b[0;34m\u001b[0m\u001b[0m\n\u001b[1;32m    391\u001b[0m     \u001b[0;32mif\u001b[0m \u001b[0;34m(\u001b[0m\u001b[0mnrows\u001b[0m \u001b[0;32mis\u001b[0m \u001b[0;32mnot\u001b[0m \u001b[0mNone\u001b[0m\u001b[0;34m)\u001b[0m \u001b[0;32mand\u001b[0m \u001b[0;34m(\u001b[0m\u001b[0mchunksize\u001b[0m \u001b[0;32mis\u001b[0m \u001b[0;32mnot\u001b[0m \u001b[0mNone\u001b[0m\u001b[0;34m)\u001b[0m\u001b[0;34m:\u001b[0m\u001b[0;34m\u001b[0m\u001b[0m\n",
      "\u001b[0;32m/Users/alanaking/anaconda/lib/python2.7/site-packages/pandas/io/parsers.pyc\u001b[0m in \u001b[0;36m__init__\u001b[0;34m(self, f, engine, **kwds)\u001b[0m\n\u001b[1;32m    728\u001b[0m             \u001b[0mself\u001b[0m\u001b[0;34m.\u001b[0m\u001b[0moptions\u001b[0m\u001b[0;34m[\u001b[0m\u001b[0;34m'has_index_names'\u001b[0m\u001b[0;34m]\u001b[0m \u001b[0;34m=\u001b[0m \u001b[0mkwds\u001b[0m\u001b[0;34m[\u001b[0m\u001b[0;34m'has_index_names'\u001b[0m\u001b[0;34m]\u001b[0m\u001b[0;34m\u001b[0m\u001b[0m\n\u001b[1;32m    729\u001b[0m \u001b[0;34m\u001b[0m\u001b[0m\n\u001b[0;32m--> 730\u001b[0;31m         \u001b[0mself\u001b[0m\u001b[0;34m.\u001b[0m\u001b[0m_make_engine\u001b[0m\u001b[0;34m(\u001b[0m\u001b[0mself\u001b[0m\u001b[0;34m.\u001b[0m\u001b[0mengine\u001b[0m\u001b[0;34m)\u001b[0m\u001b[0;34m\u001b[0m\u001b[0m\n\u001b[0m\u001b[1;32m    731\u001b[0m \u001b[0;34m\u001b[0m\u001b[0m\n\u001b[1;32m    732\u001b[0m     \u001b[0;32mdef\u001b[0m \u001b[0mclose\u001b[0m\u001b[0;34m(\u001b[0m\u001b[0mself\u001b[0m\u001b[0;34m)\u001b[0m\u001b[0;34m:\u001b[0m\u001b[0;34m\u001b[0m\u001b[0m\n",
      "\u001b[0;32m/Users/alanaking/anaconda/lib/python2.7/site-packages/pandas/io/parsers.pyc\u001b[0m in \u001b[0;36m_make_engine\u001b[0;34m(self, engine)\u001b[0m\n\u001b[1;32m    921\u001b[0m     \u001b[0;32mdef\u001b[0m \u001b[0m_make_engine\u001b[0m\u001b[0;34m(\u001b[0m\u001b[0mself\u001b[0m\u001b[0;34m,\u001b[0m \u001b[0mengine\u001b[0m\u001b[0;34m=\u001b[0m\u001b[0;34m'c'\u001b[0m\u001b[0;34m)\u001b[0m\u001b[0;34m:\u001b[0m\u001b[0;34m\u001b[0m\u001b[0m\n\u001b[1;32m    922\u001b[0m         \u001b[0;32mif\u001b[0m \u001b[0mengine\u001b[0m \u001b[0;34m==\u001b[0m \u001b[0;34m'c'\u001b[0m\u001b[0;34m:\u001b[0m\u001b[0;34m\u001b[0m\u001b[0m\n\u001b[0;32m--> 923\u001b[0;31m             \u001b[0mself\u001b[0m\u001b[0;34m.\u001b[0m\u001b[0m_engine\u001b[0m \u001b[0;34m=\u001b[0m \u001b[0mCParserWrapper\u001b[0m\u001b[0;34m(\u001b[0m\u001b[0mself\u001b[0m\u001b[0;34m.\u001b[0m\u001b[0mf\u001b[0m\u001b[0;34m,\u001b[0m \u001b[0;34m**\u001b[0m\u001b[0mself\u001b[0m\u001b[0;34m.\u001b[0m\u001b[0moptions\u001b[0m\u001b[0;34m)\u001b[0m\u001b[0;34m\u001b[0m\u001b[0m\n\u001b[0m\u001b[1;32m    924\u001b[0m         \u001b[0;32melse\u001b[0m\u001b[0;34m:\u001b[0m\u001b[0;34m\u001b[0m\u001b[0m\n\u001b[1;32m    925\u001b[0m             \u001b[0;32mif\u001b[0m \u001b[0mengine\u001b[0m \u001b[0;34m==\u001b[0m \u001b[0;34m'python'\u001b[0m\u001b[0;34m:\u001b[0m\u001b[0;34m\u001b[0m\u001b[0m\n",
      "\u001b[0;32m/Users/alanaking/anaconda/lib/python2.7/site-packages/pandas/io/parsers.pyc\u001b[0m in \u001b[0;36m__init__\u001b[0;34m(self, src, **kwds)\u001b[0m\n\u001b[1;32m   1388\u001b[0m         \u001b[0mkwds\u001b[0m\u001b[0;34m[\u001b[0m\u001b[0;34m'allow_leading_cols'\u001b[0m\u001b[0;34m]\u001b[0m \u001b[0;34m=\u001b[0m \u001b[0mself\u001b[0m\u001b[0;34m.\u001b[0m\u001b[0mindex_col\u001b[0m \u001b[0;32mis\u001b[0m \u001b[0;32mnot\u001b[0m \u001b[0mFalse\u001b[0m\u001b[0;34m\u001b[0m\u001b[0m\n\u001b[1;32m   1389\u001b[0m \u001b[0;34m\u001b[0m\u001b[0m\n\u001b[0;32m-> 1390\u001b[0;31m         \u001b[0mself\u001b[0m\u001b[0;34m.\u001b[0m\u001b[0m_reader\u001b[0m \u001b[0;34m=\u001b[0m \u001b[0m_parser\u001b[0m\u001b[0;34m.\u001b[0m\u001b[0mTextReader\u001b[0m\u001b[0;34m(\u001b[0m\u001b[0msrc\u001b[0m\u001b[0;34m,\u001b[0m \u001b[0;34m**\u001b[0m\u001b[0mkwds\u001b[0m\u001b[0;34m)\u001b[0m\u001b[0;34m\u001b[0m\u001b[0m\n\u001b[0m\u001b[1;32m   1391\u001b[0m \u001b[0;34m\u001b[0m\u001b[0m\n\u001b[1;32m   1392\u001b[0m         \u001b[0;31m# XXX\u001b[0m\u001b[0;34m\u001b[0m\u001b[0;34m\u001b[0m\u001b[0m\n",
      "\u001b[0;32mpandas/parser.pyx\u001b[0m in \u001b[0;36mpandas.parser.TextReader.__cinit__ (pandas/parser.c:4184)\u001b[0;34m()\u001b[0m\n",
      "\u001b[0;32mpandas/parser.pyx\u001b[0m in \u001b[0;36mpandas.parser.TextReader._setup_parser_source (pandas/parser.c:8449)\u001b[0;34m()\u001b[0m\n",
      "\u001b[0;31mIOError\u001b[0m: File winequality-white.csv does not exist"
     ]
    }
   ],
   "source": [
    "df2 = pd.read_csv('winequality-white.csv', sep = ';')"
   ]
  },
  {
   "cell_type": "code",
   "execution_count": 17,
   "metadata": {
    "collapsed": false,
    "scrolled": false
   },
   "outputs": [
    {
     "name": "stdout",
     "output_type": "stream",
     "text": [
      "       fixed acidity  volatile acidity  citric acid  residual sugar  \\\n",
      "count    4898.000000       4898.000000  4898.000000     4898.000000   \n",
      "mean        6.854788          0.278241     0.334192        6.391415   \n",
      "std         0.843868          0.100795     0.121020        5.072058   \n",
      "min         3.800000          0.080000     0.000000        0.600000   \n",
      "25%         6.300000          0.210000     0.270000        1.700000   \n",
      "50%         6.800000          0.260000     0.320000        5.200000   \n",
      "75%         7.300000          0.320000     0.390000        9.900000   \n",
      "max        14.200000          1.100000     1.660000       65.800000   \n",
      "\n",
      "         chlorides  free sulfur dioxide  total sulfur dioxide      density  \\\n",
      "count  4898.000000          4898.000000           4898.000000  4898.000000   \n",
      "mean      0.045772            35.308085            138.360657     0.994027   \n",
      "std       0.021848            17.007137             42.498065     0.002991   \n",
      "min       0.009000             2.000000              9.000000     0.987110   \n",
      "25%       0.036000            23.000000            108.000000     0.991723   \n",
      "50%       0.043000            34.000000            134.000000     0.993740   \n",
      "75%       0.050000            46.000000            167.000000     0.996100   \n",
      "max       0.346000           289.000000            440.000000     1.038980   \n",
      "\n",
      "                pH    sulphates      alcohol      quality  \n",
      "count  4898.000000  4898.000000  4898.000000  4898.000000  \n",
      "mean      3.188267     0.489847    10.514267     5.877909  \n",
      "std       0.151001     0.114126     1.230621     0.885639  \n",
      "min       2.720000     0.220000     8.000000     3.000000  \n",
      "25%       3.090000     0.410000     9.500000     5.000000  \n",
      "50%       3.180000     0.470000    10.400000     6.000000  \n",
      "75%       3.280000     0.550000    11.400000     6.000000  \n",
      "max       3.820000     1.080000    14.200000     9.000000  \n"
     ]
    }
   ],
   "source": [
    "print(df2.describe())"
   ]
  },
  {
   "cell_type": "code",
   "execution_count": 18,
   "metadata": {
    "collapsed": true
   },
   "outputs": [],
   "source": [
    "White_Features = df[list(df.columns)[:-1]]\n",
    "White_Quality = df['quality']\n",
    "White_Features_train, White_Features_test, White_Quality_train, White_Quality_test = train_test_split(White_Features, White_Quality)"
   ]
  },
  {
   "cell_type": "code",
   "execution_count": 19,
   "metadata": {
    "collapsed": false
   },
   "outputs": [
    {
     "name": "stdout",
     "output_type": "stream",
     "text": [
      "                            OLS Regression Results                            \n",
      "==============================================================================\n",
      "Dep. Variable:                quality   R-squared:                       0.987\n",
      "Model:                            OLS   Adj. R-squared:                  0.987\n",
      "Method:                 Least Squares   F-statistic:                     2694.\n",
      "Date:                Thu, 12 Apr 2018   Prob (F-statistic):               0.00\n",
      "Time:                        00:16:00   Log-Likelihood:                -394.81\n",
      "No. Observations:                 400   AIC:                             811.6\n",
      "Df Residuals:                     389   BIC:                             855.5\n",
      "Df Model:                          11                                         \n",
      "Covariance Type:            nonrobust                                         \n",
      "========================================================================================\n",
      "                           coef    std err          t      P>|t|      [0.025      0.975]\n",
      "----------------------------------------------------------------------------------------\n",
      "fixed acidity            0.0136      0.033      0.412      0.681      -0.051       0.079\n",
      "volatile acidity        -0.8466      0.236     -3.593      0.000      -1.310      -0.383\n",
      "citric acid             -0.3849      0.285     -1.351      0.178      -0.945       0.175\n",
      "residual sugar          -0.0073      0.022     -0.327      0.744      -0.051       0.037\n",
      "chlorides               -2.9426      0.832     -3.536      0.000      -4.579      -1.307\n",
      "free sulfur dioxide      0.0126      0.004      2.822      0.005       0.004       0.021\n",
      "total sulfur dioxide    -0.0046      0.001     -3.352      0.001      -0.007      -0.002\n",
      "density                  5.0347      1.254      4.015      0.000       2.569       7.500\n",
      "pH                      -0.7784      0.326     -2.385      0.018      -1.420      -0.137\n",
      "sulphates                0.9430      0.222      4.256      0.000       0.507       1.379\n",
      "alcohol                  0.3188      0.034      9.286      0.000       0.251       0.386\n",
      "==============================================================================\n",
      "Omnibus:                       14.736   Durbin-Watson:                   2.019\n",
      "Prob(Omnibus):                  0.001   Jarque-Bera (JB):               23.757\n",
      "Skew:                          -0.252   Prob(JB):                     6.94e-06\n",
      "Kurtosis:                       4.082   Cond. No.                     2.51e+03\n",
      "==============================================================================\n",
      "\n",
      "Warnings:\n",
      "[1] Standard Errors assume that the covariance matrix of the errors is correctly specified.\n",
      "[2] The condition number is large, 2.51e+03. This might indicate that there are\n",
      "strong multicollinearity or other numerical problems.\n"
     ]
    }
   ],
   "source": [
    "with warnings.catch_warnings():\n",
    "    warnings.simplefilter('ignore')\n",
    "    white_results = sm.OLS(White_Quality_test, White_Features_test, missing='drop')\n",
    "    white_results = white_results.fit()\n",
    "    print(white_results.summary())"
   ]
  },
  {
   "cell_type": "code",
   "execution_count": 32,
   "metadata": {
    "collapsed": true
   },
   "outputs": [],
   "source": [
    "Quality_predictions = white_results.predict(White_Features_test)"
   ]
  },
  {
   "cell_type": "code",
   "execution_count": 34,
   "metadata": {
    "collapsed": false
   },
   "outputs": [
    {
     "data": {
      "image/png": "[encoded data removed]",
      "text/plain": [
       "<matplotlib.figure.Figure at 0x1c1fa4a4a8>"
      ]
     },
     "metadata": {},
     "output_type": "display_data"
    }
   ],
   "source": [
    "plt.scatter(White_Quality_test, White_Quality_predictions)\n",
    "plt.xlabel('True Quality')\n",
    "plt.ylabel('Predicted Quality')\n",
    "plt.title('Predicted Quality Against True Quality ')\n",
    "plt.show()"
   ]
  }
 ],
 "metadata": {
  "kernelspec": {
   "display_name": "Python 2",
   "language": "python",
   "name": "python2"
  },
  "language_info": {
   "codemirror_mode": {
    "name": "ipython",
    "version": 2
   },
   "file_extension": ".py",
   "mimetype": "text/x-python",
   "name": "python",
   "nbconvert_exporter": "python",
   "pygments_lexer": "ipython2",
   "version": "2.7.13"
  }
 },
 "nbformat": 4,
 "nbformat_minor": 2
}
